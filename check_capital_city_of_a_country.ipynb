{
  "nbformat": 4,
  "nbformat_minor": 0,
  "metadata": {
    "colab": {
      "provenance": [],
      "authorship_tag": "ABX9TyPeJbWyBhEuEFfjIX5BbK2y",
      "include_colab_link": true
    },
    "kernelspec": {
      "name": "python3",
      "display_name": "Python 3"
    },
    "language_info": {
      "name": "python"
    }
  },
  "cells": [
    {
      "cell_type": "markdown",
      "metadata": {
        "id": "view-in-github",
        "colab_type": "text"
      },
      "source": [
        "<a href=\"https://colab.research.google.com/github/FionaMahoro/agent-AI-Course/blob/Unit-1/check_capital_city_of_a_country.ipynb\" target=\"_parent\"><img src=\"https://colab.research.google.com/assets/colab-badge.svg\" alt=\"Open In Colab\"/></a>"
      ]
    },
    {
      "cell_type": "code",
      "execution_count": null,
      "metadata": {
        "colab": {
          "base_uri": "https://localhost:8080/"
        },
        "id": "t-hpGcMK2E-E",
        "outputId": "c5780d09-9841-4955-963f-f2d682439d20"
      },
      "outputs": [
        {
          "output_type": "stream",
          "name": "stdout",
          "text": [
            "Enter the name of a country: sxrejvc\n",
            "The capital of sxrejvc is Failed to retrieve data\n"
          ]
        }
      ],
      "source": [
        "import requests\n",
        "\n",
        "def get_capital(country_name):\n",
        "    \"\"\"\n",
        "    Get the capital city of a country.\n",
        "\n",
        "    Args:\n",
        "        country_name (str): The name of the country.\n",
        "\n",
        "    Returns:\n",
        "        str: The capital city of the country.\n",
        "    \"\"\"\n",
        "    url = f\"https://restcountries.com/v3.1/name/{country_name}\"\n",
        "    response = requests.get(url)\n",
        "\n",
        "    if response.status_code == 200:\n",
        "        data = response.json()\n",
        "        if data:\n",
        "            return data[0][\"capital\"][0]\n",
        "        else:\n",
        "            return \"Country not found\"\n",
        "    else:\n",
        "        return \"Failed to retrieve data\"\n",
        "\n",
        "# usage:\n",
        "country_name = input(\"Enter the name of a country: \")\n",
        "capital = get_capital(country_name)\n",
        "\n",
        "if capital:\n",
        "    print(f\"The capital of {country_name} is {capital}\")\n",
        "else:\n",
        "    print(\"Failed to retrieve data\")"
      ]
    }
  ]
}